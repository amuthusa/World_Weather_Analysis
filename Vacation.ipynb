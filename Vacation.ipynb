{
 "cells": [
  {
   "cell_type": "code",
   "execution_count": 1,
   "metadata": {},
   "outputs": [],
   "source": [
    "# Import the dependencies.\n",
    "import pandas as pd\n",
    "import gmaps\n",
    "import requests\n",
    "import sys\n",
    "import os\n",
    "# Import the API key.\n",
    "from config import g_key"
   ]
  },
  {
   "cell_type": "code",
   "execution_count": 2,
   "metadata": {},
   "outputs": [
    {
     "data": {
      "text/html": [
       "<div>\n",
       "<style scoped>\n",
       "    .dataframe tbody tr th:only-of-type {\n",
       "        vertical-align: middle;\n",
       "    }\n",
       "\n",
       "    .dataframe tbody tr th {\n",
       "        vertical-align: top;\n",
       "    }\n",
       "\n",
       "    .dataframe thead th {\n",
       "        text-align: right;\n",
       "    }\n",
       "</style>\n",
       "<table border=\"1\" class=\"dataframe\">\n",
       "  <thead>\n",
       "    <tr style=\"text-align: right;\">\n",
       "      <th></th>\n",
       "      <th>City_ID</th>\n",
       "      <th>City</th>\n",
       "      <th>Country</th>\n",
       "      <th>Date</th>\n",
       "      <th>Lat</th>\n",
       "      <th>Lng</th>\n",
       "      <th>Max Temp</th>\n",
       "      <th>Humidity</th>\n",
       "      <th>Cloudiness</th>\n",
       "      <th>Wind Speed</th>\n",
       "    </tr>\n",
       "  </thead>\n",
       "  <tbody>\n",
       "    <tr>\n",
       "      <th>0</th>\n",
       "      <td>0</td>\n",
       "      <td>Thompson</td>\n",
       "      <td>CA</td>\n",
       "      <td>2020-02-21 04:52:19</td>\n",
       "      <td>55.74</td>\n",
       "      <td>-97.86</td>\n",
       "      <td>19.40</td>\n",
       "      <td>79</td>\n",
       "      <td>75</td>\n",
       "      <td>8.05</td>\n",
       "    </tr>\n",
       "    <tr>\n",
       "      <th>1</th>\n",
       "      <td>1</td>\n",
       "      <td>Rikitea</td>\n",
       "      <td>PF</td>\n",
       "      <td>2020-02-21 04:52:06</td>\n",
       "      <td>-23.12</td>\n",
       "      <td>-134.97</td>\n",
       "      <td>78.49</td>\n",
       "      <td>75</td>\n",
       "      <td>42</td>\n",
       "      <td>13.85</td>\n",
       "    </tr>\n",
       "    <tr>\n",
       "      <th>2</th>\n",
       "      <td>2</td>\n",
       "      <td>Khatanga</td>\n",
       "      <td>RU</td>\n",
       "      <td>2020-02-21 04:52:39</td>\n",
       "      <td>71.97</td>\n",
       "      <td>102.50</td>\n",
       "      <td>6.55</td>\n",
       "      <td>95</td>\n",
       "      <td>100</td>\n",
       "      <td>10.54</td>\n",
       "    </tr>\n",
       "    <tr>\n",
       "      <th>3</th>\n",
       "      <td>3</td>\n",
       "      <td>Yellowknife</td>\n",
       "      <td>CA</td>\n",
       "      <td>2020-02-21 04:51:52</td>\n",
       "      <td>62.46</td>\n",
       "      <td>-114.35</td>\n",
       "      <td>26.60</td>\n",
       "      <td>63</td>\n",
       "      <td>20</td>\n",
       "      <td>10.29</td>\n",
       "    </tr>\n",
       "    <tr>\n",
       "      <th>4</th>\n",
       "      <td>4</td>\n",
       "      <td>College</td>\n",
       "      <td>US</td>\n",
       "      <td>2020-02-21 04:52:22</td>\n",
       "      <td>64.86</td>\n",
       "      <td>-147.80</td>\n",
       "      <td>19.40</td>\n",
       "      <td>85</td>\n",
       "      <td>75</td>\n",
       "      <td>4.52</td>\n",
       "    </tr>\n",
       "  </tbody>\n",
       "</table>\n",
       "</div>"
      ],
      "text/plain": [
       "   City_ID         City Country                 Date    Lat     Lng  Max Temp  \\\n",
       "0        0     Thompson      CA  2020-02-21 04:52:19  55.74  -97.86     19.40   \n",
       "1        1      Rikitea      PF  2020-02-21 04:52:06 -23.12 -134.97     78.49   \n",
       "2        2     Khatanga      RU  2020-02-21 04:52:39  71.97  102.50      6.55   \n",
       "3        3  Yellowknife      CA  2020-02-21 04:51:52  62.46 -114.35     26.60   \n",
       "4        4      College      US  2020-02-21 04:52:22  64.86 -147.80     19.40   \n",
       "\n",
       "   Humidity  Cloudiness  Wind Speed  \n",
       "0        79          75        8.05  \n",
       "1        75          42       13.85  \n",
       "2        95         100       10.54  \n",
       "3        63          20       10.29  \n",
       "4        85          75        4.52  "
      ]
     },
     "execution_count": 2,
     "metadata": {},
     "output_type": "execute_result"
    }
   ],
   "source": [
    "#load the csv file\n",
    "file_to_load = os.path.join(\"weather_data\", \"cities.csv\")\n",
    "cities_data_df = pd.read_csv(file_to_load)\n",
    "cities_data_df.head()"
   ]
  },
  {
   "cell_type": "code",
   "execution_count": 3,
   "metadata": {
    "scrolled": false
   },
   "outputs": [
    {
     "data": {
      "text/plain": [
       "City_ID         int64\n",
       "City           object\n",
       "Country        object\n",
       "Date           object\n",
       "Lat           float64\n",
       "Lng           float64\n",
       "Max Temp      float64\n",
       "Humidity        int64\n",
       "Cloudiness      int64\n",
       "Wind Speed    float64\n",
       "dtype: object"
      ]
     },
     "execution_count": 3,
     "metadata": {},
     "output_type": "execute_result"
    }
   ],
   "source": [
    "cities_data_df.dtypes"
   ]
  },
  {
   "cell_type": "code",
   "execution_count": 4,
   "metadata": {},
   "outputs": [],
   "source": [
    "#configure google maps\n",
    "gmaps.configure(api_key=g_key)"
   ]
  },
  {
   "cell_type": "code",
   "execution_count": 5,
   "metadata": {},
   "outputs": [
    {
     "data": {
      "application/vnd.jupyter.widget-view+json": {
       "model_id": "a2f4478783db478b8c8239b8f4619978",
       "version_major": 2,
       "version_minor": 0
      },
      "text/plain": [
       "Figure(layout=FigureLayout(height='420px'))"
      ]
     },
     "metadata": {},
     "output_type": "display_data"
    }
   ],
   "source": [
    "\n",
    "\n",
    "#get lattidue and longitude as a dataframe from cities data frame\n",
    "locations = cities_data_df[[\"Lat\", \"Lng\"]]\n",
    "\n",
    "#get maximum temperature from cities dataframe\n",
    "temperatures = cities_data_df[\"Max Temp\"]\n",
    "\n",
    "#temps = []\n",
    "#for temp in temperatures:\n",
    "#    temps.append(max(temp, 0))\n",
    "\n",
    "temps = [(max(temp, 0)) for temp in temperatures]\n",
    "#get the figure from gmaps\n",
    "fig = gmaps.figure()\n",
    "\n",
    "#get the heat maps from gmaps\n",
    "heat_layer = gmaps.heatmap_layer(locations, weights=temps, dissipating=False, max_intensity=300, point_radius=4)\n",
    "\n",
    "#add the headmap layer to figure\n",
    "fig.add_layer(heat_layer)\n",
    "\n",
    "#call the figure to plot it\n",
    "fig"
   ]
  },
  {
   "cell_type": "code",
   "execution_count": 6,
   "metadata": {},
   "outputs": [
    {
     "data": {
      "application/vnd.jupyter.widget-view+json": {
       "model_id": "48e27c751c1a47448f946cf8c0b520e2",
       "version_major": 2,
       "version_minor": 0
      },
      "text/plain": [
       "Figure(layout=FigureLayout(height='420px'))"
      ]
     },
     "metadata": {},
     "output_type": "display_data"
    }
   ],
   "source": [
    "\n",
    "\n",
    "#get lattidue and longitude as a dataframe from cities data frame\n",
    "locations = cities_data_df[[\"Lat\", \"Lng\"]]\n",
    "\n",
    "#get maximum temperature from cities dataframe\n",
    "temperatures = cities_data_df[\"Max Temp\"]\n",
    "\n",
    "#temps = []\n",
    "#for temp in temperatures:\n",
    "#    temps.append(max(temp, 0))\n",
    "\n",
    "temps = [(max(temp, 0)) for temp in temperatures]\n",
    "#get the figure from gmaps\n",
    "fig = gmaps.figure(center=(30.0, 31.0), zoom_level=1.85)\n",
    "\n",
    "#get the heat maps from gmaps\n",
    "heat_layer = gmaps.heatmap_layer(locations, weights=temps, dissipating=False, max_intensity=300, point_radius=4)\n",
    "\n",
    "#add the headmap layer to figure\n",
    "fig.add_layer(heat_layer)\n",
    "\n",
    "#call the figure to plot it\n",
    "fig"
   ]
  },
  {
   "cell_type": "code",
   "execution_count": 86,
   "metadata": {
    "scrolled": true
   },
   "outputs": [
    {
     "data": {
      "application/vnd.jupyter.widget-view+json": {
       "model_id": "c3af367ffcfb4a7b9cb91ddc89049af7",
       "version_major": 2,
       "version_minor": 0
      },
      "text/plain": [
       "Figure(layout=FigureLayout(height='420px'))"
      ]
     },
     "metadata": {},
     "output_type": "display_data"
    }
   ],
   "source": [
    "#plot heatmap with humidity\n",
    "#get lattitude and longitude\n",
    "locations = cities_data_df[[\"Lat\", \"Lng\"]]\n",
    "#get humidity\n",
    "humidities = cities_data_df[\"Humidity\"]\n",
    "fig = gmaps.figure(center=(30.0, 31.0), zoom_level=1.85)\n",
    "heat_layer = gmaps.heatmap_layer(locations, weights=humidities, dissipating=False, max_intensity=300, point_radius=4)\n",
    "\n",
    "fig.add_layer(heat_layer)\n",
    "\n",
    "#plot the figure\n",
    "fig"
   ]
  },
  {
   "cell_type": "code",
   "execution_count": 7,
   "metadata": {},
   "outputs": [
    {
     "data": {
      "application/vnd.jupyter.widget-view+json": {
       "model_id": "708b2c049e89415a9f817c0f157552ba",
       "version_major": 2,
       "version_minor": 0
      },
      "text/plain": [
       "Figure(layout=FigureLayout(height='420px'))"
      ]
     },
     "metadata": {},
     "output_type": "display_data"
    }
   ],
   "source": [
    "#plot heatmap based on cloudiness\n",
    "#get lattitude and longitude\n",
    "locations = cities_data_df[[\"Lat\", \"Lng\"]]\n",
    "#get clouds\n",
    "clouds = cities_data_df[\"Cloudiness\"]\n",
    "fig = gmaps.figure(center=(30.0, 31.0), zoom_level=1.85)\n",
    "heat_layer = gmaps.heatmap_layer(locations, weights=clouds, dissipating=False, max_intensity=300, point_radius=4)\n",
    "\n",
    "fig.add_layer(heat_layer)\n",
    "\n",
    "#plot the figure\n",
    "fig"
   ]
  },
  {
   "cell_type": "code",
   "execution_count": 8,
   "metadata": {},
   "outputs": [
    {
     "data": {
      "application/vnd.jupyter.widget-view+json": {
       "model_id": "5e6e3e88c06f4739b99b2613ae2c6c29",
       "version_major": 2,
       "version_minor": 0
      },
      "text/plain": [
       "Figure(layout=FigureLayout(height='420px'))"
      ]
     },
     "metadata": {},
     "output_type": "display_data"
    }
   ],
   "source": [
    "#plot heatmap based on Wind Speed\n",
    "#get lattitude and longitide from city data\n",
    "locations = cities_data_df[[\"Lat\", \"Lng\"]]\n",
    "wind = cities_data_df[\"Wind Speed\"]\n",
    "fig = gmaps.figure(center=(30.0, 31.0), zoom_level=1.85)\n",
    "heat_layer= gmaps.heatmap_layer(locations, weights=wind, dissipating=False, max_intensity=300, point_radius=4)\n",
    "\n",
    "fig.add_layer(heat_layer)\n",
    "#plot the figure\n",
    "fig"
   ]
  },
  {
   "cell_type": "code",
   "execution_count": 9,
   "metadata": {},
   "outputs": [
    {
     "name": "stdout",
     "output_type": "stream",
     "text": [
      "What is the minimum temperature you would like for your trip?65\n",
      "What is the maximum temperature you would like for your trip?80\n"
     ]
    }
   ],
   "source": [
    "#prompt the customer for max and minimum temperature value\n",
    "min_temperature = float(input(\"What is the minimum temperature you would like for your trip?\"))\n",
    "max_temperature = float(input(\"What is the maximum temperature you would like for your trip?\"))"
   ]
  },
  {
   "cell_type": "code",
   "execution_count": 10,
   "metadata": {},
   "outputs": [
    {
     "data": {
      "text/html": [
       "<div>\n",
       "<style scoped>\n",
       "    .dataframe tbody tr th:only-of-type {\n",
       "        vertical-align: middle;\n",
       "    }\n",
       "\n",
       "    .dataframe tbody tr th {\n",
       "        vertical-align: top;\n",
       "    }\n",
       "\n",
       "    .dataframe thead th {\n",
       "        text-align: right;\n",
       "    }\n",
       "</style>\n",
       "<table border=\"1\" class=\"dataframe\">\n",
       "  <thead>\n",
       "    <tr style=\"text-align: right;\">\n",
       "      <th></th>\n",
       "      <th>City_ID</th>\n",
       "      <th>City</th>\n",
       "      <th>Country</th>\n",
       "      <th>Date</th>\n",
       "      <th>Lat</th>\n",
       "      <th>Lng</th>\n",
       "      <th>Max Temp</th>\n",
       "      <th>Humidity</th>\n",
       "      <th>Cloudiness</th>\n",
       "      <th>Wind Speed</th>\n",
       "    </tr>\n",
       "  </thead>\n",
       "  <tbody>\n",
       "    <tr>\n",
       "      <th>1</th>\n",
       "      <td>1</td>\n",
       "      <td>Rikitea</td>\n",
       "      <td>PF</td>\n",
       "      <td>2020-02-21 04:52:06</td>\n",
       "      <td>-23.12</td>\n",
       "      <td>-134.97</td>\n",
       "      <td>78.49</td>\n",
       "      <td>75</td>\n",
       "      <td>42</td>\n",
       "      <td>13.85</td>\n",
       "    </tr>\n",
       "    <tr>\n",
       "      <th>6</th>\n",
       "      <td>6</td>\n",
       "      <td>Airai</td>\n",
       "      <td>TL</td>\n",
       "      <td>2020-02-21 04:51:58</td>\n",
       "      <td>-8.93</td>\n",
       "      <td>125.41</td>\n",
       "      <td>74.80</td>\n",
       "      <td>87</td>\n",
       "      <td>100</td>\n",
       "      <td>2.89</td>\n",
       "    </tr>\n",
       "    <tr>\n",
       "      <th>9</th>\n",
       "      <td>9</td>\n",
       "      <td>Puerto Ayora</td>\n",
       "      <td>EC</td>\n",
       "      <td>2020-02-21 04:51:55</td>\n",
       "      <td>-0.74</td>\n",
       "      <td>-90.35</td>\n",
       "      <td>77.74</td>\n",
       "      <td>88</td>\n",
       "      <td>77</td>\n",
       "      <td>8.50</td>\n",
       "    </tr>\n",
       "    <tr>\n",
       "      <th>10</th>\n",
       "      <td>10</td>\n",
       "      <td>Kruisfontein</td>\n",
       "      <td>ZA</td>\n",
       "      <td>2020-02-21 04:52:02</td>\n",
       "      <td>-34.00</td>\n",
       "      <td>24.73</td>\n",
       "      <td>68.09</td>\n",
       "      <td>76</td>\n",
       "      <td>3</td>\n",
       "      <td>4.34</td>\n",
       "    </tr>\n",
       "    <tr>\n",
       "      <th>13</th>\n",
       "      <td>13</td>\n",
       "      <td>Nata</td>\n",
       "      <td>PA</td>\n",
       "      <td>2020-02-21 04:53:20</td>\n",
       "      <td>8.33</td>\n",
       "      <td>-80.52</td>\n",
       "      <td>75.99</td>\n",
       "      <td>47</td>\n",
       "      <td>73</td>\n",
       "      <td>1.99</td>\n",
       "    </tr>\n",
       "  </tbody>\n",
       "</table>\n",
       "</div>"
      ],
      "text/plain": [
       "    City_ID          City Country                 Date    Lat     Lng  \\\n",
       "1         1       Rikitea      PF  2020-02-21 04:52:06 -23.12 -134.97   \n",
       "6         6         Airai      TL  2020-02-21 04:51:58  -8.93  125.41   \n",
       "9         9  Puerto Ayora      EC  2020-02-21 04:51:55  -0.74  -90.35   \n",
       "10       10  Kruisfontein      ZA  2020-02-21 04:52:02 -34.00   24.73   \n",
       "13       13          Nata      PA  2020-02-21 04:53:20   8.33  -80.52   \n",
       "\n",
       "    Max Temp  Humidity  Cloudiness  Wind Speed  \n",
       "1      78.49        75          42       13.85  \n",
       "6      74.80        87         100        2.89  \n",
       "9      77.74        88          77        8.50  \n",
       "10     68.09        76           3        4.34  \n",
       "13     75.99        47          73        1.99  "
      ]
     },
     "execution_count": 10,
     "metadata": {},
     "output_type": "execute_result"
    }
   ],
   "source": [
    "#filter the dataset based on min and max temperatures entered\n",
    "preferred_cities_df = cities_data_df[(cities_data_df[\"Max Temp\"] >= min_temperature) & ( cities_data_df[\"Max Temp\"] <= max_temperature)]\n",
    "preferred_cities_df.head()"
   ]
  },
  {
   "cell_type": "code",
   "execution_count": 11,
   "metadata": {},
   "outputs": [
    {
     "data": {
      "text/plain": [
       "City_ID       0\n",
       "City          0\n",
       "Country       3\n",
       "Date          0\n",
       "Lat           0\n",
       "Lng           0\n",
       "Max Temp      0\n",
       "Humidity      0\n",
       "Cloudiness    0\n",
       "Wind Speed    0\n",
       "dtype: int64"
      ]
     },
     "execution_count": 11,
     "metadata": {},
     "output_type": "execute_result"
    }
   ],
   "source": [
    "preferred_cities_df.isnull().sum()"
   ]
  },
  {
   "cell_type": "code",
   "execution_count": 12,
   "metadata": {},
   "outputs": [
    {
     "data": {
      "text/plain": [
       "City_ID       156\n",
       "City          156\n",
       "Country       153\n",
       "Date          156\n",
       "Lat           156\n",
       "Lng           156\n",
       "Max Temp      156\n",
       "Humidity      156\n",
       "Cloudiness    156\n",
       "Wind Speed    156\n",
       "dtype: int64"
      ]
     },
     "execution_count": 12,
     "metadata": {},
     "output_type": "execute_result"
    }
   ],
   "source": [
    "preferred_cities_df.notnull().sum()"
   ]
  },
  {
   "cell_type": "code",
   "execution_count": 13,
   "metadata": {},
   "outputs": [
    {
     "data": {
      "text/plain": [
       "City_ID       153\n",
       "City          153\n",
       "Country       153\n",
       "Date          153\n",
       "Lat           153\n",
       "Lng           153\n",
       "Max Temp      153\n",
       "Humidity      153\n",
       "Cloudiness    153\n",
       "Wind Speed    153\n",
       "dtype: int64"
      ]
     },
     "execution_count": 13,
     "metadata": {},
     "output_type": "execute_result"
    }
   ],
   "source": [
    "preferred_cities_cleaned_df = preferred_cities_df.dropna(how=\"any\")\n",
    "preferred_cities_cleaned_df.count()"
   ]
  },
  {
   "cell_type": "code",
   "execution_count": 29,
   "metadata": {},
   "outputs": [
    {
     "data": {
      "text/html": [
       "<div>\n",
       "<style scoped>\n",
       "    .dataframe tbody tr th:only-of-type {\n",
       "        vertical-align: middle;\n",
       "    }\n",
       "\n",
       "    .dataframe tbody tr th {\n",
       "        vertical-align: top;\n",
       "    }\n",
       "\n",
       "    .dataframe thead th {\n",
       "        text-align: right;\n",
       "    }\n",
       "</style>\n",
       "<table border=\"1\" class=\"dataframe\">\n",
       "  <thead>\n",
       "    <tr style=\"text-align: right;\">\n",
       "      <th></th>\n",
       "      <th>City</th>\n",
       "      <th>Country</th>\n",
       "      <th>Max Temp</th>\n",
       "      <th>Lat</th>\n",
       "      <th>Lng</th>\n",
       "      <th>Hotel Name</th>\n",
       "    </tr>\n",
       "  </thead>\n",
       "  <tbody>\n",
       "    <tr>\n",
       "      <th>1</th>\n",
       "      <td>Rikitea</td>\n",
       "      <td>PF</td>\n",
       "      <td>78.49</td>\n",
       "      <td>-23.12</td>\n",
       "      <td>-134.97</td>\n",
       "      <td></td>\n",
       "    </tr>\n",
       "    <tr>\n",
       "      <th>6</th>\n",
       "      <td>Airai</td>\n",
       "      <td>TL</td>\n",
       "      <td>74.80</td>\n",
       "      <td>-8.93</td>\n",
       "      <td>125.41</td>\n",
       "      <td></td>\n",
       "    </tr>\n",
       "    <tr>\n",
       "      <th>9</th>\n",
       "      <td>Puerto Ayora</td>\n",
       "      <td>EC</td>\n",
       "      <td>77.74</td>\n",
       "      <td>-0.74</td>\n",
       "      <td>-90.35</td>\n",
       "      <td></td>\n",
       "    </tr>\n",
       "    <tr>\n",
       "      <th>10</th>\n",
       "      <td>Kruisfontein</td>\n",
       "      <td>ZA</td>\n",
       "      <td>68.09</td>\n",
       "      <td>-34.00</td>\n",
       "      <td>24.73</td>\n",
       "      <td></td>\n",
       "    </tr>\n",
       "    <tr>\n",
       "      <th>13</th>\n",
       "      <td>Nata</td>\n",
       "      <td>PA</td>\n",
       "      <td>75.99</td>\n",
       "      <td>8.33</td>\n",
       "      <td>-80.52</td>\n",
       "      <td></td>\n",
       "    </tr>\n",
       "  </tbody>\n",
       "</table>\n",
       "</div>"
      ],
      "text/plain": [
       "            City Country  Max Temp    Lat     Lng Hotel Name\n",
       "1        Rikitea      PF     78.49 -23.12 -134.97           \n",
       "6          Airai      TL     74.80  -8.93  125.41           \n",
       "9   Puerto Ayora      EC     77.74  -0.74  -90.35           \n",
       "10  Kruisfontein      ZA     68.09 -34.00   24.73           \n",
       "13          Nata      PA     75.99   8.33  -80.52           "
      ]
     },
     "execution_count": 29,
     "metadata": {},
     "output_type": "execute_result"
    }
   ],
   "source": [
    "#make a copy of the dataframe for finding hotels\n",
    "hotels_df = preferred_cities_cleaned_df[[\"City\", \"Country\", \"Max Temp\", \"Lat\", \"Lng\"]].copy()\n",
    "hotels_df[\"Hotel Name\"] = \"\"\n",
    "hotels_df.head()"
   ]
  },
  {
   "cell_type": "code",
   "execution_count": 30,
   "metadata": {
    "scrolled": true
   },
   "outputs": [
    {
     "name": "stdout",
     "output_type": "stream",
     "text": [
      "Hotel not found... Skipping\n",
      "Hotel not found... Skipping\n",
      "Hotel not found... Skipping\n",
      "Hotel not found... Skipping\n",
      "Hotel not found... Skipping\n",
      "Hotel not found... Skipping\n",
      "Hotel not found... Skipping\n",
      "Hotel not found... Skipping\n",
      "Hotel not found... Skipping\n",
      "Hotel not found... Skipping\n",
      "Hotel not found... Skipping\n",
      "Hotel not found... Skipping\n",
      "Hotel not found... Skipping\n",
      "Hotel not found... Skipping\n",
      "Hotel not found... Skipping\n",
      "Hotel not found... Skipping\n",
      "Hotel not found... Skipping\n",
      "Hotel not found... Skipping\n"
     ]
    },
    {
     "data": {
      "text/html": [
       "<div>\n",
       "<style scoped>\n",
       "    .dataframe tbody tr th:only-of-type {\n",
       "        vertical-align: middle;\n",
       "    }\n",
       "\n",
       "    .dataframe tbody tr th {\n",
       "        vertical-align: top;\n",
       "    }\n",
       "\n",
       "    .dataframe thead th {\n",
       "        text-align: right;\n",
       "    }\n",
       "</style>\n",
       "<table border=\"1\" class=\"dataframe\">\n",
       "  <thead>\n",
       "    <tr style=\"text-align: right;\">\n",
       "      <th></th>\n",
       "      <th>City</th>\n",
       "      <th>Country</th>\n",
       "      <th>Max Temp</th>\n",
       "      <th>Lat</th>\n",
       "      <th>Lng</th>\n",
       "      <th>Hotel Name</th>\n",
       "    </tr>\n",
       "  </thead>\n",
       "  <tbody>\n",
       "    <tr>\n",
       "      <th>1</th>\n",
       "      <td>Rikitea</td>\n",
       "      <td>PF</td>\n",
       "      <td>78.49</td>\n",
       "      <td>-23.12</td>\n",
       "      <td>-134.97</td>\n",
       "      <td>Pension Maro'i</td>\n",
       "    </tr>\n",
       "    <tr>\n",
       "      <th>6</th>\n",
       "      <td>Airai</td>\n",
       "      <td>TL</td>\n",
       "      <td>74.80</td>\n",
       "      <td>-8.93</td>\n",
       "      <td>125.41</td>\n",
       "      <td>Juvinal Martin</td>\n",
       "    </tr>\n",
       "    <tr>\n",
       "      <th>9</th>\n",
       "      <td>Puerto Ayora</td>\n",
       "      <td>EC</td>\n",
       "      <td>77.74</td>\n",
       "      <td>-0.74</td>\n",
       "      <td>-90.35</td>\n",
       "      <td>Finch Bay Galapagos Hotel</td>\n",
       "    </tr>\n",
       "    <tr>\n",
       "      <th>10</th>\n",
       "      <td>Kruisfontein</td>\n",
       "      <td>ZA</td>\n",
       "      <td>68.09</td>\n",
       "      <td>-34.00</td>\n",
       "      <td>24.73</td>\n",
       "      <td>Oyster Bay House Rental</td>\n",
       "    </tr>\n",
       "    <tr>\n",
       "      <th>13</th>\n",
       "      <td>Nata</td>\n",
       "      <td>PA</td>\n",
       "      <td>75.99</td>\n",
       "      <td>8.33</td>\n",
       "      <td>-80.52</td>\n",
       "      <td>Cabañas Estancia Bayamon</td>\n",
       "    </tr>\n",
       "  </tbody>\n",
       "</table>\n",
       "</div>"
      ],
      "text/plain": [
       "            City Country  Max Temp    Lat     Lng                 Hotel Name\n",
       "1        Rikitea      PF     78.49 -23.12 -134.97             Pension Maro'i\n",
       "6          Airai      TL     74.80  -8.93  125.41             Juvinal Martin\n",
       "9   Puerto Ayora      EC     77.74  -0.74  -90.35  Finch Bay Galapagos Hotel\n",
       "10  Kruisfontein      ZA     68.09 -34.00   24.73    Oyster Bay House Rental\n",
       "13          Nata      PA     75.99   8.33  -80.52   Cabañas Estancia Bayamon"
      ]
     },
     "execution_count": 30,
     "metadata": {},
     "output_type": "execute_result"
    }
   ],
   "source": [
    "#parameters for search for a hotel\n",
    "params = {\n",
    "    \"radius\": 5000,\n",
    "    \"type\": \"lodging\",\n",
    "    \"key\": g_key\n",
    "}\n",
    "\n",
    "#base url for getting nearest hotel from google api using longitude and lattitude\n",
    "base_url = \"https://maps.googleapis.com/maps/api/place/nearbysearch/json\"\n",
    "\n",
    "#iterate over lattitude and longitude data\n",
    "for index, row in hotels_df.iterrows():\n",
    "    latitude = row[\"Lat\"]\n",
    "    longitude = row[\"Lng\"]\n",
    "    \n",
    "    #add longitude and lattitude to params\n",
    "    params[\"location\"] = f\"{latitude},{longitude}\"\n",
    "    \n",
    "    hotels_data = requests.get(base_url, params=params).json()\n",
    "    \n",
    "    #get the name of the nearest first hotel\n",
    "    try:\n",
    "        hotels_df.loc[index, \"Hotel Name\"] = hotels_data[\"results\"][0][\"name\"]\n",
    "    except (IndexError):\n",
    "        print(\"Hotel not found... Skipping\")\n",
    "\n",
    "hotels_df.head(5)"
   ]
  },
  {
   "cell_type": "code",
   "execution_count": 34,
   "metadata": {
    "scrolled": true
   },
   "outputs": [
    {
     "data": {
      "application/vnd.jupyter.widget-view+json": {
       "model_id": "b09101cb58614226850cbbd09bbf7375",
       "version_major": 2,
       "version_minor": 0
      },
      "text/plain": [
       "Figure(layout=FigureLayout(height='420px'))"
      ]
     },
     "metadata": {},
     "output_type": "display_data"
    }
   ],
   "source": [
    "#create heatmap from hotels dataframe for location and temperatures\n",
    "locations = hotels_df[[\"Lat\", \"Lng\"]]\n",
    "temperatures = hotels_df[\"Max Temp\"]\n",
    "\n",
    "fig = gmaps.figure(center=(30.0, 31.0), zoom_level=1.85)\n",
    "heat_layer = gmaps.heatmap_layer(locations, weights=temperatures, dissipating=False, max_intensity=300, point_radius=4)\n",
    "\n",
    "fig.add_layer(heat_layer)\n",
    "\n",
    "#show the figure\n",
    "fig"
   ]
  },
  {
   "cell_type": "code",
   "execution_count": 35,
   "metadata": {},
   "outputs": [
    {
     "data": {
      "application/vnd.jupyter.widget-view+json": {
       "model_id": "665f4b6d0a0149be803e853be0e7b838",
       "version_major": 2,
       "version_minor": 0
      },
      "text/plain": [
       "Figure(layout=FigureLayout(height='420px'))"
      ]
     },
     "metadata": {},
     "output_type": "display_data"
    }
   ],
   "source": [
    "#create heatmap from hotels dataframe for location and temperatures\n",
    "locations = hotels_df[[\"Lat\", \"Lng\"]]\n",
    "temperatures = hotels_df[\"Max Temp\"]\n",
    "\n",
    "fig = gmaps.figure(center=(30.0, 31.0), zoom_level=1.85)\n",
    "heat_layer = gmaps.heatmap_layer(locations, weights=temperatures, dissipating=False, max_intensity=300, point_radius=4)\n",
    "\n",
    "marker_layer = gmaps.marker_layer(locations)\n",
    "\n",
    "fig.add_layer(heat_layer)\n",
    "fig.add_layer(marker_layer)\n",
    "#show the figure\n",
    "fig"
   ]
  },
  {
   "cell_type": "code",
   "execution_count": 37,
   "metadata": {},
   "outputs": [
    {
     "data": {
      "text/plain": [
       "[\"\\n<dl>\\n<dt>Hotel Name</dt><dd>Pension Maro'i</dd>\\n<dt>City</dt><dd>Rikitea</dd>\\n<dt>Country</dt><dd>PF</dd>\\n<dt>Max Temp</dt><dd>78.49</dd>\\n</dl>\\n\",\n",
       " '\\n<dl>\\n<dt>Hotel Name</dt><dd>Juvinal Martin</dd>\\n<dt>City</dt><dd>Airai</dd>\\n<dt>Country</dt><dd>TL</dd>\\n<dt>Max Temp</dt><dd>74.8</dd>\\n</dl>\\n',\n",
       " '\\n<dl>\\n<dt>Hotel Name</dt><dd>Finch Bay Galapagos Hotel</dd>\\n<dt>City</dt><dd>Puerto Ayora</dd>\\n<dt>Country</dt><dd>EC</dd>\\n<dt>Max Temp</dt><dd>77.74</dd>\\n</dl>\\n',\n",
       " '\\n<dl>\\n<dt>Hotel Name</dt><dd>Oyster Bay House Rental</dd>\\n<dt>City</dt><dd>Kruisfontein</dd>\\n<dt>Country</dt><dd>ZA</dd>\\n<dt>Max Temp</dt><dd>68.09</dd>\\n</dl>\\n',\n",
       " '\\n<dl>\\n<dt>Hotel Name</dt><dd>Cabañas Estancia Bayamon</dd>\\n<dt>City</dt><dd>Nata</dd>\\n<dt>Country</dt><dd>PA</dd>\\n<dt>Max Temp</dt><dd>75.99</dd>\\n</dl>\\n',\n",
       " '\\n<dl>\\n<dt>Hotel Name</dt><dd>The Halyards Hotel</dd>\\n<dt>City</dt><dd>Port Alfred</dd>\\n<dt>Country</dt><dd>ZA</dd>\\n<dt>Max Temp</dt><dd>68.0</dd>\\n</dl>\\n',\n",
       " '\\n<dl>\\n<dt>Hotel Name</dt><dd></dd>\\n<dt>City</dt><dd>Am Timan</dd>\\n<dt>Country</dt><dd>TD</dd>\\n<dt>Max Temp</dt><dd>75.16</dd>\\n</dl>\\n',\n",
       " '\\n<dl>\\n<dt>Hotel Name</dt><dd>Tortuga B&B</dd>\\n<dt>City</dt><dd>Sao Filipe</dd>\\n<dt>Country</dt><dd>CV</dd>\\n<dt>Max Temp</dt><dd>68.27</dd>\\n</dl>\\n',\n",
       " '\\n<dl>\\n<dt>Hotel Name</dt><dd>Sheraton Kauai Resort at Coconut Beach</dd>\\n<dt>City</dt><dd>Kapaa</dd>\\n<dt>Country</dt><dd>US</dd>\\n<dt>Max Temp</dt><dd>75.2</dd>\\n</dl>\\n',\n",
       " '\\n<dl>\\n<dt>Hotel Name</dt><dd>Mini Hotel Central</dd>\\n<dt>City</dt><dd>Victoria</dd>\\n<dt>Country</dt><dd>HK</dd>\\n<dt>Max Temp</dt><dd>75.99</dd>\\n</dl>\\n',\n",
       " '\\n<dl>\\n<dt>Hotel Name</dt><dd>OYO 45414 Hotel Sai Palace</dd>\\n<dt>City</dt><dd>Katol</dd>\\n<dt>Country</dt><dd>IN</dd>\\n<dt>Max Temp</dt><dd>77.0</dd>\\n</dl>\\n',\n",
       " '\\n<dl>\\n<dt>Hotel Name</dt><dd>Pousada Porto Praia</dd>\\n<dt>City</dt><dd>Arraial Do Cabo</dd>\\n<dt>Country</dt><dd>BR</dd>\\n<dt>Max Temp</dt><dd>76.32</dd>\\n</dl>\\n',\n",
       " '\\n<dl>\\n<dt>Hotel Name</dt><dd>奄美ポートタワーホテル</dd>\\n<dt>City</dt><dd>Naze</dd>\\n<dt>Country</dt><dd>JP</dd>\\n<dt>Max Temp</dt><dd>69.8</dd>\\n</dl>\\n',\n",
       " '\\n<dl>\\n<dt>Hotel Name</dt><dd></dd>\\n<dt>City</dt><dd>Doka</dd>\\n<dt>Country</dt><dd>SD</dd>\\n<dt>Max Temp</dt><dd>73.62</dd>\\n</dl>\\n',\n",
       " '\\n<dl>\\n<dt>Hotel Name</dt><dd>Southern Sun Waterfront Cape Town</dd>\\n<dt>City</dt><dd>Cape Town</dd>\\n<dt>Country</dt><dd>ZA</dd>\\n<dt>Max Temp</dt><dd>66.99</dd>\\n</dl>\\n',\n",
       " '\\n<dl>\\n<dt>Hotel Name</dt><dd>Hospitality Esperance</dd>\\n<dt>City</dt><dd>Esperance</dd>\\n<dt>Country</dt><dd>AU</dd>\\n<dt>Max Temp</dt><dd>77.0</dd>\\n</dl>\\n',\n",
       " '\\n<dl>\\n<dt>Hotel Name</dt><dd>Alarne - Área De Lazer Do Alto Rio Negro</dd>\\n<dt>City</dt><dd>Sao Gabriel Da Cachoeira</dd>\\n<dt>Country</dt><dd>BR</dd>\\n<dt>Max Temp</dt><dd>74.48</dd>\\n</dl>\\n',\n",
       " '\\n<dl>\\n<dt>Hotel Name</dt><dd>Casona Del Muelle</dd>\\n<dt>City</dt><dd>Pimentel</dd>\\n<dt>Country</dt><dd>PE</dd>\\n<dt>Max Temp</dt><dd>66.2</dd>\\n</dl>\\n',\n",
       " '\\n<dl>\\n<dt>Hotel Name</dt><dd>Hotel The Royal Honours</dd>\\n<dt>City</dt><dd>Mangrol</dd>\\n<dt>Country</dt><dd>IN</dd>\\n<dt>Max Temp</dt><dd>75.61</dd>\\n</dl>\\n',\n",
       " '\\n<dl>\\n<dt>Hotel Name</dt><dd>Norma franco</dd>\\n<dt>City</dt><dd>Tomatlan</dd>\\n<dt>Country</dt><dd>MX</dd>\\n<dt>Max Temp</dt><dd>68.59</dd>\\n</dl>\\n',\n",
       " '\\n<dl>\\n<dt>Hotel Name</dt><dd>Hotel Ixola</dd>\\n<dt>City</dt><dd>Tarrafal</dd>\\n<dt>Country</dt><dd>CV</dd>\\n<dt>Max Temp</dt><dd>69.8</dd>\\n</dl>\\n',\n",
       " '\\n<dl>\\n<dt>Hotel Name</dt><dd>CHACARA BAILLY</dd>\\n<dt>City</dt><dd>Castro</dd>\\n<dt>Country</dt><dd>BR</dd>\\n<dt>Max Temp</dt><dd>66.92</dd>\\n</dl>\\n',\n",
       " '\\n<dl>\\n<dt>Hotel Name</dt><dd>Hôtel Le Dronmi</dd>\\n<dt>City</dt><dd>Cayenne</dd>\\n<dt>Country</dt><dd>GF</dd>\\n<dt>Max Temp</dt><dd>77.0</dd>\\n</dl>\\n',\n",
       " '\\n<dl>\\n<dt>Hotel Name</dt><dd>Capital Lodge</dd>\\n<dt>City</dt><dd>Kasulu</dd>\\n<dt>Country</dt><dd>TZ</dd>\\n<dt>Max Temp</dt><dd>69.42</dd>\\n</dl>\\n',\n",
       " '\\n<dl>\\n<dt>Hotel Name</dt><dd>REER XOOSHLE GROUP</dd>\\n<dt>City</dt><dd>Bandarbeyla</dd>\\n<dt>Country</dt><dd>SO</dd>\\n<dt>Max Temp</dt><dd>77.83</dd>\\n</dl>\\n',\n",
       " '\\n<dl>\\n<dt>Hotel Name</dt><dd>Restaurant Greedy Coco Lodge Majunga</dd>\\n<dt>City</dt><dd>Mahajanga</dd>\\n<dt>Country</dt><dd>MG</dd>\\n<dt>Max Temp</dt><dd>75.2</dd>\\n</dl>\\n',\n",
       " '\\n<dl>\\n<dt>Hotel Name</dt><dd>Broadwater Mariner Resort</dd>\\n<dt>City</dt><dd>Geraldton</dd>\\n<dt>Country</dt><dd>AU</dd>\\n<dt>Max Temp</dt><dd>78.8</dd>\\n</dl>\\n',\n",
       " '\\n<dl>\\n<dt>Hotel Name</dt><dd>Al Bander Resort - منتجع البندر</dd>\\n<dt>City</dt><dd>Sitrah</dd>\\n<dt>Country</dt><dd>BH</dd>\\n<dt>Max Temp</dt><dd>66.2</dd>\\n</dl>\\n',\n",
       " '\\n<dl>\\n<dt>Hotel Name</dt><dd>Minshuku Agaihama</dd>\\n<dt>City</dt><dd>Nishihara</dd>\\n<dt>Country</dt><dd>JP</dd>\\n<dt>Max Temp</dt><dd>73.4</dd>\\n</dl>\\n',\n",
       " '\\n<dl>\\n<dt>Hotel Name</dt><dd>Hotel Mpampa</dd>\\n<dt>City</dt><dd>Soyo</dd>\\n<dt>Country</dt><dd>AO</dd>\\n<dt>Max Temp</dt><dd>79.43</dd>\\n</dl>\\n',\n",
       " '\\n<dl>\\n<dt>Hotel Name</dt><dd>Marine Club Beach Resort</dd>\\n<dt>City</dt><dd>Sal Rei</dd>\\n<dt>Country</dt><dd>CV</dd>\\n<dt>Max Temp</dt><dd>68.0</dd>\\n</dl>\\n',\n",
       " '\\n<dl>\\n<dt>Hotel Name</dt><dd>Port Lincoln Hotel</dd>\\n<dt>City</dt><dd>Port Lincoln</dd>\\n<dt>Country</dt><dd>AU</dd>\\n<dt>Max Temp</dt><dd>66.47</dd>\\n</dl>\\n',\n",
       " '\\n<dl>\\n<dt>Hotel Name</dt><dd>Taloa Heights</dd>\\n<dt>City</dt><dd>Alofi</dd>\\n<dt>Country</dt><dd>NU</dd>\\n<dt>Max Temp</dt><dd>79.9</dd>\\n</dl>\\n',\n",
       " '\\n<dl>\\n<dt>Hotel Name</dt><dd>Rydges Port Macquarie</dd>\\n<dt>City</dt><dd>Port Macquarie</dd>\\n<dt>Country</dt><dd>AU</dd>\\n<dt>Max Temp</dt><dd>79.0</dd>\\n</dl>\\n',\n",
       " '\\n<dl>\\n<dt>Hotel Name</dt><dd>Mercure Maceió</dd>\\n<dt>City</dt><dd>Maceio</dd>\\n<dt>Country</dt><dd>BR</dd>\\n<dt>Max Temp</dt><dd>73.4</dd>\\n</dl>\\n',\n",
       " '\\n<dl>\\n<dt>Hotel Name</dt><dd>Maui Seaside Hotel</dd>\\n<dt>City</dt><dd>Kahului</dd>\\n<dt>Country</dt><dd>US</dd>\\n<dt>Max Temp</dt><dd>73.4</dd>\\n</dl>\\n',\n",
       " '\\n<dl>\\n<dt>Hotel Name</dt><dd></dd>\\n<dt>City</dt><dd>Kerouane</dd>\\n<dt>Country</dt><dd>GN</dd>\\n<dt>Max Temp</dt><dd>73.81</dd>\\n</dl>\\n',\n",
       " '\\n<dl>\\n<dt>Hotel Name</dt><dd>Copamarina Beach Resort & Spa</dd>\\n<dt>City</dt><dd>Guanica</dd>\\n<dt>Country</dt><dd>PR</dd>\\n<dt>Max Temp</dt><dd>77.0</dd>\\n</dl>\\n',\n",
       " '\\n<dl>\\n<dt>Hotel Name</dt><dd></dd>\\n<dt>City</dt><dd>Tambopata</dd>\\n<dt>Country</dt><dd>PE</dd>\\n<dt>Max Temp</dt><dd>75.94</dd>\\n</dl>\\n',\n",
       " '\\n<dl>\\n<dt>Hotel Name</dt><dd>Osprey Beach Hotel</dd>\\n<dt>City</dt><dd>Cockburn Town</dd>\\n<dt>Country</dt><dd>TC</dd>\\n<dt>Max Temp</dt><dd>77.59</dd>\\n</dl>\\n',\n",
       " '\\n<dl>\\n<dt>Hotel Name</dt><dd>Hilo Hawaiian Hotel</dd>\\n<dt>City</dt><dd>Hilo</dd>\\n<dt>Country</dt><dd>US</dd>\\n<dt>Max Temp</dt><dd>71.6</dd>\\n</dl>\\n',\n",
       " '\\n<dl>\\n<dt>Hotel Name</dt><dd>Hotel Santana Syariah Kepanjen Malang jatim</dd>\\n<dt>City</dt><dd>Kepanjen</dd>\\n<dt>Country</dt><dd>ID</dd>\\n<dt>Max Temp</dt><dd>78.31</dd>\\n</dl>\\n',\n",
       " '\\n<dl>\\n<dt>Hotel Name</dt><dd>Hotel Tesoro Los Cabos</dd>\\n<dt>City</dt><dd>Cabo San Lucas</dd>\\n<dt>Country</dt><dd>MX</dd>\\n<dt>Max Temp</dt><dd>71.6</dd>\\n</dl>\\n',\n",
       " '\\n<dl>\\n<dt>Hotel Name</dt><dd>EPIC SANA Luanda</dd>\\n<dt>City</dt><dd>Luanda</dd>\\n<dt>Country</dt><dd>AO</dd>\\n<dt>Max Temp</dt><dd>78.8</dd>\\n</dl>\\n',\n",
       " '\\n<dl>\\n<dt>Hotel Name</dt><dd>Lidera</dd>\\n<dt>City</dt><dd>Carutapera</dd>\\n<dt>Country</dt><dd>BR</dd>\\n<dt>Max Temp</dt><dd>77.18</dd>\\n</dl>\\n',\n",
       " '\\n<dl>\\n<dt>Hotel Name</dt><dd>Novomar Pousada e Turismo Ltda</dd>\\n<dt>City</dt><dd>Cidreira</dd>\\n<dt>Country</dt><dd>BR</dd>\\n<dt>Max Temp</dt><dd>69.76</dd>\\n</dl>\\n',\n",
       " '\\n<dl>\\n<dt>Hotel Name</dt><dd>Hostal San Isidro Oficial</dd>\\n<dt>City</dt><dd>Pisco</dd>\\n<dt>Country</dt><dd>PE</dd>\\n<dt>Max Temp</dt><dd>73.4</dd>\\n</dl>\\n',\n",
       " '\\n<dl>\\n<dt>Hotel Name</dt><dd>sala de fiesta san Rafael</dd>\\n<dt>City</dt><dd>Seybaplaya</dd>\\n<dt>Country</dt><dd>MX</dd>\\n<dt>Max Temp</dt><dd>77.58</dd>\\n</dl>\\n',\n",
       " '\\n<dl>\\n<dt>Hotel Name</dt><dd></dd>\\n<dt>City</dt><dd>Marzuq</dd>\\n<dt>Country</dt><dd>YE</dd>\\n<dt>Max Temp</dt><dd>75.69</dd>\\n</dl>\\n',\n",
       " '\\n<dl>\\n<dt>Hotel Name</dt><dd>مزرعة راحة النفوس المنزفة</dd>\\n<dt>City</dt><dd>Ibra</dd>\\n<dt>Country</dt><dd>OM</dd>\\n<dt>Max Temp</dt><dd>73.89</dd>\\n</dl>\\n',\n",
       " '\\n<dl>\\n<dt>Hotel Name</dt><dd>Abaco Beach Resort</dd>\\n<dt>City</dt><dd>Marsh Harbour</dd>\\n<dt>Country</dt><dd>BS</dd>\\n<dt>Max Temp</dt><dd>74.62</dd>\\n</dl>\\n',\n",
       " '\\n<dl>\\n<dt>Hotel Name</dt><dd>Paihuen</dd>\\n<dt>City</dt><dd>Buin</dd>\\n<dt>Country</dt><dd>CL</dd>\\n<dt>Max Temp</dt><dd>70.0</dd>\\n</dl>\\n',\n",
       " '\\n<dl>\\n<dt>Hotel Name</dt><dd>Apartment Point Fortin</dd>\\n<dt>City</dt><dd>Point Fortin</dd>\\n<dt>Country</dt><dd>TT</dd>\\n<dt>Max Temp</dt><dd>73.4</dd>\\n</dl>\\n',\n",
       " '\\n<dl>\\n<dt>Hotel Name</dt><dd>ALETHEIA Appartement Sinnamary</dd>\\n<dt>City</dt><dd>Sinnamary</dd>\\n<dt>Country</dt><dd>GF</dd>\\n<dt>Max Temp</dt><dd>78.1</dd>\\n</dl>\\n',\n",
       " '\\n<dl>\\n<dt>Hotel Name</dt><dd>Atlantis Hotel</dd>\\n<dt>City</dt><dd>Bathsheba</dd>\\n<dt>Country</dt><dd>BB</dd>\\n<dt>Max Temp</dt><dd>78.8</dd>\\n</dl>\\n',\n",
       " '\\n<dl>\\n<dt>Hotel Name</dt><dd>Paradise Bay Resort</dd>\\n<dt>City</dt><dd>Ahuimanu</dd>\\n<dt>Country</dt><dd>US</dd>\\n<dt>Max Temp</dt><dd>75.2</dd>\\n</dl>\\n',\n",
       " '\\n<dl>\\n<dt>Hotel Name</dt><dd>Christopher Nasilele House</dd>\\n<dt>City</dt><dd>Senanga</dd>\\n<dt>Country</dt><dd>ZM</dd>\\n<dt>Max Temp</dt><dd>71.04</dd>\\n</dl>\\n',\n",
       " '\\n<dl>\\n<dt>Hotel Name</dt><dd>Mid-City Trailer Park</dd>\\n<dt>City</dt><dd>Belle Glade</dd>\\n<dt>Country</dt><dd>US</dd>\\n<dt>Max Temp</dt><dd>77.0</dd>\\n</dl>\\n',\n",
       " '\\n<dl>\\n<dt>Hotel Name</dt><dd>Camp Pasica</dd>\\n<dt>City</dt><dd>Dingle</dd>\\n<dt>Country</dt><dd>PH</dd>\\n<dt>Max Temp</dt><dd>79.12</dd>\\n</dl>\\n',\n",
       " '\\n<dl>\\n<dt>Hotel Name</dt><dd>Swiss Belhotel Manokwari</dd>\\n<dt>City</dt><dd>Manokwari</dd>\\n<dt>Country</dt><dd>ID</dd>\\n<dt>Max Temp</dt><dd>79.84</dd>\\n</dl>\\n',\n",
       " '\\n<dl>\\n<dt>Hotel Name</dt><dd>Paradise Hotel</dd>\\n<dt>City</dt><dd>Wanning</dd>\\n<dt>Country</dt><dd>CN</dd>\\n<dt>Max Temp</dt><dd>74.95</dd>\\n</dl>\\n',\n",
       " '\\n<dl>\\n<dt>Hotel Name</dt><dd>Hotel Miramar</dd>\\n<dt>City</dt><dd>Huarmey</dd>\\n<dt>Country</dt><dd>PE</dd>\\n<dt>Max Temp</dt><dd>72.77</dd>\\n</dl>\\n',\n",
       " \"\\n<dl>\\n<dt>Hotel Name</dt><dd>Cj's Travellers Inn</dd>\\n<dt>City</dt><dd>Gigmoto</dd>\\n<dt>Country</dt><dd>PH</dd>\\n<dt>Max Temp</dt><dd>78.82</dd>\\n</dl>\\n\",\n",
       " '\\n<dl>\\n<dt>Hotel Name</dt><dd>Hotel Los Arcos</dd>\\n<dt>City</dt><dd>Coahuayana</dd>\\n<dt>Country</dt><dd>MX</dd>\\n<dt>Max Temp</dt><dd>73.54</dd>\\n</dl>\\n',\n",
       " '\\n<dl>\\n<dt>Hotel Name</dt><dd>INN NEW HORIZON</dd>\\n<dt>City</dt><dd>Touros</dd>\\n<dt>Country</dt><dd>BR</dd>\\n<dt>Max Temp</dt><dd>75.2</dd>\\n</dl>\\n',\n",
       " '\\n<dl>\\n<dt>Hotel Name</dt><dd>BON Hotel Delta</dd>\\n<dt>City</dt><dd>Warri</dd>\\n<dt>Country</dt><dd>NG</dd>\\n<dt>Max Temp</dt><dd>76.6</dd>\\n</dl>\\n',\n",
       " '\\n<dl>\\n<dt>Hotel Name</dt><dd>Tu Casa</dd>\\n<dt>City</dt><dd>East London</dd>\\n<dt>Country</dt><dd>ZA</dd>\\n<dt>Max Temp</dt><dd>68.0</dd>\\n</dl>\\n',\n",
       " '\\n<dl>\\n<dt>Hotel Name</dt><dd>hotêl doufoulougou</dd>\\n<dt>City</dt><dd>Tabou</dd>\\n<dt>Country</dt><dd>CI</dd>\\n<dt>Max Temp</dt><dd>75.85</dd>\\n</dl>\\n',\n",
       " '\\n<dl>\\n<dt>Hotel Name</dt><dd>Hotel Pousada Nossa Senhora do Carmo</dd>\\n<dt>City</dt><dd>Iguape</dd>\\n<dt>Country</dt><dd>BR</dd>\\n<dt>Max Temp</dt><dd>73.44</dd>\\n</dl>\\n',\n",
       " '\\n<dl>\\n<dt>Hotel Name</dt><dd>hotel diana</dd>\\n<dt>City</dt><dd>Timbiqui</dd>\\n<dt>Country</dt><dd>CO</dd>\\n<dt>Max Temp</dt><dd>74.3</dd>\\n</dl>\\n',\n",
       " '\\n<dl>\\n<dt>Hotel Name</dt><dd>Hotel Mapila 1</dd>\\n<dt>City</dt><dd>Sibiti</dd>\\n<dt>Country</dt><dd>CG</dd>\\n<dt>Max Temp</dt><dd>71.94</dd>\\n</dl>\\n',\n",
       " '\\n<dl>\\n<dt>Hotel Name</dt><dd>Hotel Cabo Blanco</dd>\\n<dt>City</dt><dd>San Patricio</dd>\\n<dt>Country</dt><dd>MX</dd>\\n<dt>Max Temp</dt><dd>76.26</dd>\\n</dl>\\n',\n",
       " '\\n<dl>\\n<dt>Hotel Name</dt><dd>RESIDÊNCIAL LANCHONETE</dd>\\n<dt>City</dt><dd>Montepuez</dd>\\n<dt>Country</dt><dd>MZ</dd>\\n<dt>Max Temp</dt><dd>78.4</dd>\\n</dl>\\n',\n",
       " '\\n<dl>\\n<dt>Hotel Name</dt><dd>Ebenezer Guest House</dd>\\n<dt>City</dt><dd>Katakwi</dd>\\n<dt>Country</dt><dd>UG</dd>\\n<dt>Max Temp</dt><dd>79.3</dd>\\n</dl>\\n',\n",
       " '\\n<dl>\\n<dt>Hotel Name</dt><dd>Lords Inn Porbandar</dd>\\n<dt>City</dt><dd>Porbandar</dd>\\n<dt>Country</dt><dd>IN</dd>\\n<dt>Max Temp</dt><dd>71.6</dd>\\n</dl>\\n',\n",
       " '\\n<dl>\\n<dt>Hotel Name</dt><dd>Canal del dique y rio magdalena</dd>\\n<dt>City</dt><dd>Calamar</dd>\\n<dt>Country</dt><dd>CO</dd>\\n<dt>Max Temp</dt><dd>78.8</dd>\\n</dl>\\n',\n",
       " '\\n<dl>\\n<dt>Hotel Name</dt><dd>Hotel Regente</dd>\\n<dt>City</dt><dd>Unai</dd>\\n<dt>Country</dt><dd>BR</dd>\\n<dt>Max Temp</dt><dd>66.9</dd>\\n</dl>\\n',\n",
       " '\\n<dl>\\n<dt>Hotel Name</dt><dd>Caribbea Bay Hotel</dd>\\n<dt>City</dt><dd>Kariba</dd>\\n<dt>Country</dt><dd>ZW</dd>\\n<dt>Max Temp</dt><dd>75.34</dd>\\n</dl>\\n',\n",
       " '\\n<dl>\\n<dt>Hotel Name</dt><dd>Hotel Maria Jose</dd>\\n<dt>City</dt><dd>Dulce Nombre De Culmi</dd>\\n<dt>Country</dt><dd>HN</dd>\\n<dt>Max Temp</dt><dd>65.07</dd>\\n</dl>\\n',\n",
       " '\\n<dl>\\n<dt>Hotel Name</dt><dd>Pousada Piracuruca</dd>\\n<dt>City</dt><dd>Piracuruca</dd>\\n<dt>Country</dt><dd>BR</dd>\\n<dt>Max Temp</dt><dd>73.6</dd>\\n</dl>\\n',\n",
       " '\\n<dl>\\n<dt>Hotel Name</dt><dd>Hotel Atoll Emerald Miyakojima</dd>\\n<dt>City</dt><dd>Hirara</dd>\\n<dt>Country</dt><dd>JP</dd>\\n<dt>Max Temp</dt><dd>73.4</dd>\\n</dl>\\n',\n",
       " '\\n<dl>\\n<dt>Hotel Name</dt><dd>Villa Park Hotel | Natal</dd>\\n<dt>City</dt><dd>Natal</dd>\\n<dt>Country</dt><dd>BR</dd>\\n<dt>Max Temp</dt><dd>75.2</dd>\\n</dl>\\n',\n",
       " '\\n<dl>\\n<dt>Hotel Name</dt><dd>Nsanje Discovery Lodge</dd>\\n<dt>City</dt><dd>Nsanje</dd>\\n<dt>Country</dt><dd>MW</dd>\\n<dt>Max Temp</dt><dd>79.54</dd>\\n</dl>\\n',\n",
       " '\\n<dl>\\n<dt>Hotel Name</dt><dd>Hotel California</dd>\\n<dt>City</dt><dd>Panaba</dd>\\n<dt>Country</dt><dd>MX</dd>\\n<dt>Max Temp</dt><dd>74.97</dd>\\n</dl>\\n',\n",
       " '\\n<dl>\\n<dt>Hotel Name</dt><dd></dd>\\n<dt>City</dt><dd>Raga</dd>\\n<dt>Country</dt><dd>SS</dd>\\n<dt>Max Temp</dt><dd>71.02</dd>\\n</dl>\\n',\n",
       " '\\n<dl>\\n<dt>Hotel Name</dt><dd>Taksar Stay</dd>\\n<dt>City</dt><dd>Tansen</dd>\\n<dt>Country</dt><dd>NP</dd>\\n<dt>Max Temp</dt><dd>67.68</dd>\\n</dl>\\n',\n",
       " '\\n<dl>\\n<dt>Hotel Name</dt><dd>Nick Hotel</dd>\\n<dt>City</dt><dd>Alicia</dd>\\n<dt>Country</dt><dd>PH</dd>\\n<dt>Max Temp</dt><dd>67.59</dd>\\n</dl>\\n',\n",
       " '\\n<dl>\\n<dt>Hotel Name</dt><dd>Hôtel Mantis</dd>\\n<dt>City</dt><dd>Kissidougou</dd>\\n<dt>Country</dt><dd>GN</dd>\\n<dt>Max Temp</dt><dd>68.34</dd>\\n</dl>\\n',\n",
       " '\\n<dl>\\n<dt>Hotel Name</dt><dd>Tora Coastal Walk</dd>\\n<dt>City</dt><dd>Waipawa</dd>\\n<dt>Country</dt><dd>NZ</dd>\\n<dt>Max Temp</dt><dd>71.01</dd>\\n</dl>\\n',\n",
       " '\\n<dl>\\n<dt>Hotel Name</dt><dd>Torreblanca Hotel</dd>\\n<dt>City</dt><dd>Ilo</dd>\\n<dt>Country</dt><dd>PE</dd>\\n<dt>Max Temp</dt><dd>72.23</dd>\\n</dl>\\n',\n",
       " '\\n<dl>\\n<dt>Hotel Name</dt><dd>Hotel Las Americas</dd>\\n<dt>City</dt><dd>Ciudad Guayana</dd>\\n<dt>Country</dt><dd>VE</dd>\\n<dt>Max Temp</dt><dd>69.39</dd>\\n</dl>\\n',\n",
       " '\\n<dl>\\n<dt>Hotel Name</dt><dd>Novo Hotel 05 Irmaos</dd>\\n<dt>City</dt><dd>Anori</dd>\\n<dt>Country</dt><dd>BR</dd>\\n<dt>Max Temp</dt><dd>75.24</dd>\\n</dl>\\n',\n",
       " '\\n<dl>\\n<dt>Hotel Name</dt><dd>Hôtel Bon Séjour</dd>\\n<dt>City</dt><dd>Dedougou</dd>\\n<dt>Country</dt><dd>BF</dd>\\n<dt>Max Temp</dt><dd>71.8</dd>\\n</dl>\\n',\n",
       " '\\n<dl>\\n<dt>Hotel Name</dt><dd>Casa Marina Beach And Reef Resort</dd>\\n<dt>City</dt><dd>Sosua</dd>\\n<dt>Country</dt><dd>DO</dd>\\n<dt>Max Temp</dt><dd>75.99</dd>\\n</dl>\\n',\n",
       " '\\n<dl>\\n<dt>Hotel Name</dt><dd>Aipana Plaza Hotel</dd>\\n<dt>City</dt><dd>Boa Vista</dd>\\n<dt>Country</dt><dd>BR</dd>\\n<dt>Max Temp</dt><dd>77.0</dd>\\n</dl>\\n',\n",
       " '\\n<dl>\\n<dt>Hotel Name</dt><dd>MHL Turismo SA</dd>\\n<dt>City</dt><dd>Inhambane</dd>\\n<dt>Country</dt><dd>MZ</dd>\\n<dt>Max Temp</dt><dd>77.0</dd>\\n</dl>\\n',\n",
       " '\\n<dl>\\n<dt>Hotel Name</dt><dd>Chik-Chik Namibe</dd>\\n<dt>City</dt><dd>Namibe</dd>\\n<dt>Country</dt><dd>AO</dd>\\n<dt>Max Temp</dt><dd>76.69</dd>\\n</dl>\\n',\n",
       " '\\n<dl>\\n<dt>Hotel Name</dt><dd>Seagull Hotel</dd>\\n<dt>City</dt><dd>Qui Nhon</dd>\\n<dt>Country</dt><dd>VN</dd>\\n<dt>Max Temp</dt><dd>77.32</dd>\\n</dl>\\n',\n",
       " '\\n<dl>\\n<dt>Hotel Name</dt><dd></dd>\\n<dt>City</dt><dd>Orapa</dd>\\n<dt>Country</dt><dd>BW</dd>\\n<dt>Max Temp</dt><dd>79.23</dd>\\n</dl>\\n',\n",
       " '\\n<dl>\\n<dt>Hotel Name</dt><dd>Baua Beach Resort</dd>\\n<dt>City</dt><dd>Cabiraoan</dd>\\n<dt>Country</dt><dd>PH</dd>\\n<dt>Max Temp</dt><dd>75.52</dd>\\n</dl>\\n',\n",
       " '\\n<dl>\\n<dt>Hotel Name</dt><dd>Floresta Amazonica Hotel</dd>\\n<dt>City</dt><dd>Alta Floresta</dd>\\n<dt>Country</dt><dd>BR</dd>\\n<dt>Max Temp</dt><dd>70.09</dd>\\n</dl>\\n',\n",
       " '\\n<dl>\\n<dt>Hotel Name</dt><dd>B.W.D Resthouse.</dd>\\n<dt>City</dt><dd>Tuensang</dd>\\n<dt>Country</dt><dd>IN</dd>\\n<dt>Max Temp</dt><dd>70.43</dd>\\n</dl>\\n',\n",
       " '\\n<dl>\\n<dt>Hotel Name</dt><dd>Shellharbour Resort & Conference Centre</dd>\\n<dt>City</dt><dd>Flinders</dd>\\n<dt>Country</dt><dd>AU</dd>\\n<dt>Max Temp</dt><dd>77.0</dd>\\n</dl>\\n',\n",
       " '\\n<dl>\\n<dt>Hotel Name</dt><dd>Hotel Praia Morena</dd>\\n<dt>City</dt><dd>Benguela</dd>\\n<dt>Country</dt><dd>AO</dd>\\n<dt>Max Temp</dt><dd>79.07</dd>\\n</dl>\\n',\n",
       " '\\n<dl>\\n<dt>Hotel Name</dt><dd>Casa Dora</dd>\\n<dt>City</dt><dd>Bubaque</dd>\\n<dt>Country</dt><dd>GW</dd>\\n<dt>Max Temp</dt><dd>78.76</dd>\\n</dl>\\n',\n",
       " '\\n<dl>\\n<dt>Hotel Name</dt><dd></dd>\\n<dt>City</dt><dd>Beyla</dd>\\n<dt>Country</dt><dd>GN</dd>\\n<dt>Max Temp</dt><dd>68.92</dd>\\n</dl>\\n',\n",
       " '\\n<dl>\\n<dt>Hotel Name</dt><dd></dd>\\n<dt>City</dt><dd>Adrar</dd>\\n<dt>Country</dt><dd>MR</dd>\\n<dt>Max Temp</dt><dd>67.01</dd>\\n</dl>\\n',\n",
       " '\\n<dl>\\n<dt>Hotel Name</dt><dd>Posada Llovizna Rodríguez</dd>\\n<dt>City</dt><dd>San Felipe</dd>\\n<dt>Country</dt><dd>VE</dd>\\n<dt>Max Temp</dt><dd>70.95</dd>\\n</dl>\\n',\n",
       " '\\n<dl>\\n<dt>Hotel Name</dt><dd>Raybow International Hotel</dd>\\n<dt>City</dt><dd>Takoradi</dd>\\n<dt>Country</dt><dd>GH</dd>\\n<dt>Max Temp</dt><dd>77.0</dd>\\n</dl>\\n',\n",
       " '\\n<dl>\\n<dt>Hotel Name</dt><dd></dd>\\n<dt>City</dt><dd>Filingue</dd>\\n<dt>Country</dt><dd>NE</dd>\\n<dt>Max Temp</dt><dd>67.15</dd>\\n</dl>\\n',\n",
       " '\\n<dl>\\n<dt>Hotel Name</dt><dd>Pacific Rendezvous Motel Resort</dd>\\n<dt>City</dt><dd>Ngunguru</dd>\\n<dt>Country</dt><dd>NZ</dd>\\n<dt>Max Temp</dt><dd>77.0</dd>\\n</dl>\\n',\n",
       " '\\n<dl>\\n<dt>Hotel Name</dt><dd>Hotel Estância</dd>\\n<dt>City</dt><dd>Jardim</dd>\\n<dt>Country</dt><dd>BR</dd>\\n<dt>Max Temp</dt><dd>74.55</dd>\\n</dl>\\n',\n",
       " '\\n<dl>\\n<dt>Hotel Name</dt><dd>Bonthe Holiday Village</dd>\\n<dt>City</dt><dd>Bonthe</dd>\\n<dt>Country</dt><dd>SL</dd>\\n<dt>Max Temp</dt><dd>76.68</dd>\\n</dl>\\n',\n",
       " '\\n<dl>\\n<dt>Hotel Name</dt><dd>Binang and Cadio Resort</dd>\\n<dt>City</dt><dd>Bobon</dd>\\n<dt>Country</dt><dd>PH</dd>\\n<dt>Max Temp</dt><dd>75.38</dd>\\n</dl>\\n',\n",
       " '\\n<dl>\\n<dt>Hotel Name</dt><dd></dd>\\n<dt>City</dt><dd>Ati</dd>\\n<dt>Country</dt><dd>TD</dd>\\n<dt>Max Temp</dt><dd>70.11</dd>\\n</dl>\\n',\n",
       " '\\n<dl>\\n<dt>Hotel Name</dt><dd>WHITNEY-WOLCOTT HOUSE ON LAKE CHARM</dd>\\n<dt>City</dt><dd>Seminole</dd>\\n<dt>Country</dt><dd>US</dd>\\n<dt>Max Temp</dt><dd>72.0</dd>\\n</dl>\\n',\n",
       " '\\n<dl>\\n<dt>Hotel Name</dt><dd>Hotel Fairmont Makkah Clock Royal Tower</dd>\\n<dt>City</dt><dd>Mecca</dd>\\n<dt>Country</dt><dd>SA</dd>\\n<dt>Max Temp</dt><dd>67.46</dd>\\n</dl>\\n',\n",
       " '\\n<dl>\\n<dt>Hotel Name</dt><dd>Hôtel & Restaurant DIANA Ambilobe</dd>\\n<dt>City</dt><dd>Ambilobe</dd>\\n<dt>Country</dt><dd>MG</dd>\\n<dt>Max Temp</dt><dd>78.39</dd>\\n</dl>\\n',\n",
       " '\\n<dl>\\n<dt>Hotel Name</dt><dd>Maryam beauty salon</dd>\\n<dt>City</dt><dd>Bandar-E Lengeh</dd>\\n<dt>Country</dt><dd>IR</dd>\\n<dt>Max Temp</dt><dd>66.2</dd>\\n</dl>\\n',\n",
       " '\\n<dl>\\n<dt>Hotel Name</dt><dd>Hotel Quinta Antigua</dd>\\n<dt>City</dt><dd>Lazaro Cardenas</dd>\\n<dt>Country</dt><dd>MX</dd>\\n<dt>Max Temp</dt><dd>72.61</dd>\\n</dl>\\n',\n",
       " '\\n<dl>\\n<dt>Hotel Name</dt><dd>castelo pizzaria</dd>\\n<dt>City</dt><dd>Acarau</dd>\\n<dt>Country</dt><dd>BR</dd>\\n<dt>Max Temp</dt><dd>75.47</dd>\\n</dl>\\n',\n",
       " '\\n<dl>\\n<dt>Hotel Name</dt><dd>Sur Plaza Hotel</dd>\\n<dt>City</dt><dd>Sur</dd>\\n<dt>Country</dt><dd>OM</dd>\\n<dt>Max Temp</dt><dd>78.85</dd>\\n</dl>\\n',\n",
       " '\\n<dl>\\n<dt>Hotel Name</dt><dd></dd>\\n<dt>City</dt><dd>Lodja</dd>\\n<dt>Country</dt><dd>CD</dd>\\n<dt>Max Temp</dt><dd>76.1</dd>\\n</dl>\\n',\n",
       " '\\n<dl>\\n<dt>Hotel Name</dt><dd>AXIM BEACH RESORT AND SPA</dd>\\n<dt>City</dt><dd>Axim</dd>\\n<dt>Country</dt><dd>GH</dd>\\n<dt>Max Temp</dt><dd>77.0</dd>\\n</dl>\\n',\n",
       " '\\n<dl>\\n<dt>Hotel Name</dt><dd></dd>\\n<dt>City</dt><dd>Tessalit</dd>\\n<dt>Country</dt><dd>ML</dd>\\n<dt>Max Temp</dt><dd>65.86</dd>\\n</dl>\\n',\n",
       " '\\n<dl>\\n<dt>Hotel Name</dt><dd></dd>\\n<dt>City</dt><dd>Mitu</dd>\\n<dt>Country</dt><dd>CO</dd>\\n<dt>Max Temp</dt><dd>72.21</dd>\\n</dl>\\n',\n",
       " '\\n<dl>\\n<dt>Hotel Name</dt><dd>LT Aparthotel</dd>\\n<dt>City</dt><dd>Praya</dd>\\n<dt>Country</dt><dd>CV</dd>\\n<dt>Max Temp</dt><dd>69.8</dd>\\n</dl>\\n',\n",
       " '\\n<dl>\\n<dt>Hotel Name</dt><dd>Matarani guest house</dd>\\n<dt>City</dt><dd>Phaphund</dd>\\n<dt>Country</dt><dd>IN</dd>\\n<dt>Max Temp</dt><dd>75.2</dd>\\n</dl>\\n',\n",
       " '\\n<dl>\\n<dt>Hotel Name</dt><dd>Nekweta</dd>\\n<dt>City</dt><dd>Bourail</dd>\\n<dt>Country</dt><dd>NC</dd>\\n<dt>Max Temp</dt><dd>79.5</dd>\\n</dl>\\n',\n",
       " '\\n<dl>\\n<dt>Hotel Name</dt><dd>Reserva do Abiaí</dd>\\n<dt>City</dt><dd>Pitimbu</dd>\\n<dt>Country</dt><dd>BR</dd>\\n<dt>Max Temp</dt><dd>75.2</dd>\\n</dl>\\n',\n",
       " '\\n<dl>\\n<dt>Hotel Name</dt><dd>Hotel Bismillah</dd>\\n<dt>City</dt><dd>Sheopur</dd>\\n<dt>Country</dt><dd>IN</dd>\\n<dt>Max Temp</dt><dd>78.94</dd>\\n</dl>\\n',\n",
       " '\\n<dl>\\n<dt>Hotel Name</dt><dd>Baobab Sea Lodge</dd>\\n<dt>City</dt><dd>Kilifi</dd>\\n<dt>Country</dt><dd>KE</dd>\\n<dt>Max Temp</dt><dd>78.8</dd>\\n</dl>\\n',\n",
       " '\\n<dl>\\n<dt>Hotel Name</dt><dd>Playa Linda Hotel</dd>\\n<dt>City</dt><dd>Progreso</dd>\\n<dt>Country</dt><dd>MX</dd>\\n<dt>Max Temp</dt><dd>78.01</dd>\\n</dl>\\n',\n",
       " '\\n<dl>\\n<dt>Hotel Name</dt><dd></dd>\\n<dt>City</dt><dd>Tombouctou</dd>\\n<dt>Country</dt><dd>ML</dd>\\n<dt>Max Temp</dt><dd>71.02</dd>\\n</dl>\\n',\n",
       " '\\n<dl>\\n<dt>Hotel Name</dt><dd>Pousada Porto De Canoas</dd>\\n<dt>City</dt><dd>Sao Joao Da Barra</dd>\\n<dt>Country</dt><dd>BR</dd>\\n<dt>Max Temp</dt><dd>75.96</dd>\\n</dl>\\n',\n",
       " '\\n<dl>\\n<dt>Hotel Name</dt><dd>Tuiuiu Pantanal Hotel</dd>\\n<dt>City</dt><dd>Barao De Melgaco</dd>\\n<dt>Country</dt><dd>BR</dd>\\n<dt>Max Temp</dt><dd>78.8</dd>\\n</dl>\\n',\n",
       " '\\n<dl>\\n<dt>Hotel Name</dt><dd></dd>\\n<dt>City</dt><dd>Bria</dd>\\n<dt>Country</dt><dd>CF</dd>\\n<dt>Max Temp</dt><dd>73.02</dd>\\n</dl>\\n',\n",
       " '\\n<dl>\\n<dt>Hotel Name</dt><dd>BON Hotel Waterfront Richards Bay</dd>\\n<dt>City</dt><dd>Richards Bay</dd>\\n<dt>Country</dt><dd>ZA</dd>\\n<dt>Max Temp</dt><dd>78.87</dd>\\n</dl>\\n',\n",
       " '\\n<dl>\\n<dt>Hotel Name</dt><dd>Pousada Lobo</dd>\\n<dt>City</dt><dd>Carauari</dd>\\n<dt>Country</dt><dd>BR</dd>\\n<dt>Max Temp</dt><dd>75.29</dd>\\n</dl>\\n',\n",
       " '\\n<dl>\\n<dt>Hotel Name</dt><dd>The Lebombo Villa B+B</dd>\\n<dt>City</dt><dd>Big Bend</dd>\\n<dt>Country</dt><dd>SZ</dd>\\n<dt>Max Temp</dt><dd>73.4</dd>\\n</dl>\\n',\n",
       " '\\n<dl>\\n<dt>Hotel Name</dt><dd>Windvillage</dd>\\n<dt>City</dt><dd>Itarema</dd>\\n<dt>Country</dt><dd>BR</dd>\\n<dt>Max Temp</dt><dd>75.47</dd>\\n</dl>\\n',\n",
       " '\\n<dl>\\n<dt>Hotel Name</dt><dd></dd>\\n<dt>City</dt><dd>Mabaruma</dd>\\n<dt>Country</dt><dd>GY</dd>\\n<dt>Max Temp</dt><dd>68.38</dd>\\n</dl>\\n',\n",
       " '\\n<dl>\\n<dt>Hotel Name</dt><dd>Rancho (Hacienda) \"La Quinta\"</dd>\\n<dt>City</dt><dd>San Joaquin</dd>\\n<dt>Country</dt><dd>VE</dd>\\n<dt>Max Temp</dt><dd>76.06</dd>\\n</dl>\\n',\n",
       " '\\n<dl>\\n<dt>Hotel Name</dt><dd>Hotel Peace Land Ishigakijima</dd>\\n<dt>City</dt><dd>Ishigaki</dd>\\n<dt>Country</dt><dd>JP</dd>\\n<dt>Max Temp</dt><dd>75.2</dd>\\n</dl>\\n',\n",
       " '\\n<dl>\\n<dt>Hotel Name</dt><dd>La Quinta Inn & Suites by Wyndham Buena Park</dd>\\n<dt>City</dt><dd>La Palma</dd>\\n<dt>Country</dt><dd>US</dd>\\n<dt>Max Temp</dt><dd>66.2</dd>\\n</dl>\\n',\n",
       " '\\n<dl>\\n<dt>Hotel Name</dt><dd>By Die Vlei</dd>\\n<dt>City</dt><dd>Brits</dd>\\n<dt>Country</dt><dd>ZA</dd>\\n<dt>Max Temp</dt><dd>68.0</dd>\\n</dl>\\n',\n",
       " '\\n<dl>\\n<dt>Hotel Name</dt><dd>Complejo Turístico Farelluk</dd>\\n<dt>City</dt><dd>San Vicente</dd>\\n<dt>Country</dt><dd>AR</dd>\\n<dt>Max Temp</dt><dd>66.81</dd>\\n</dl>\\n',\n",
       " '\\n<dl>\\n<dt>Hotel Name</dt><dd></dd>\\n<dt>City</dt><dd>Benin</dd>\\n<dt>Country</dt><dd>BJ</dd>\\n<dt>Max Temp</dt><dd>67.32</dd>\\n</dl>\\n',\n",
       " '\\n<dl>\\n<dt>Hotel Name</dt><dd>Hôtel Alheri Maison Alheri</dd>\\n<dt>City</dt><dd>Dogondoutchi</dd>\\n<dt>Country</dt><dd>NE</dd>\\n<dt>Max Temp</dt><dd>66.18</dd>\\n</dl>\\n',\n",
       " '\\n<dl>\\n<dt>Hotel Name</dt><dd>Hotel Memory</dd>\\n<dt>City</dt><dd>Akyab</dd>\\n<dt>Country</dt><dd>MM</dd>\\n<dt>Max Temp</dt><dd>77.97</dd>\\n</dl>\\n',\n",
       " '\\n<dl>\\n<dt>Hotel Name</dt><dd>Hospedaje Ximens</dd>\\n<dt>City</dt><dd>Acari</dd>\\n<dt>Country</dt><dd>PE</dd>\\n<dt>Max Temp</dt><dd>67.78</dd>\\n</dl>\\n',\n",
       " '\\n<dl>\\n<dt>Hotel Name</dt><dd>Hotel Monteverde</dd>\\n<dt>City</dt><dd>Taraza</dd>\\n<dt>Country</dt><dd>CO</dd>\\n<dt>Max Temp</dt><dd>68.83</dd>\\n</dl>\\n',\n",
       " '\\n<dl>\\n<dt>Hotel Name</dt><dd>Mantra Nelson Bay</dd>\\n<dt>City</dt><dd>Nelson Bay</dd>\\n<dt>Country</dt><dd>AU</dd>\\n<dt>Max Temp</dt><dd>77.0</dd>\\n</dl>\\n']"
      ]
     },
     "execution_count": 37,
     "metadata": {},
     "output_type": "execute_result"
    }
   ],
   "source": [
    "#create infoblock template whose values will be replace iterating\n",
    "info_block_template = \"\"\"\n",
    "<dl>\n",
    "<dt>Hotel Name</dt><dd>{Hotel Name}</dd>\n",
    "<dt>City</dt><dd>{City}</dd>\n",
    "<dt>Country</dt><dd>{Country}</dd>\n",
    "<dt>Max Temp</dt><dd>{Max Temp}</dd>\n",
    "</dl>\n",
    "\"\"\"\n",
    "#create infoblock for display\n",
    "hotel_info = [info_block_template.format(**row) for index, row in hotels_df.iterrows()]\n",
    "\n",
    "hotel_info"
   ]
  },
  {
   "cell_type": "code",
   "execution_count": 38,
   "metadata": {},
   "outputs": [
    {
     "data": {
      "application/vnd.jupyter.widget-view+json": {
       "model_id": "ca3899208c124ca39c5b74950e789f82",
       "version_major": 2,
       "version_minor": 0
      },
      "text/plain": [
       "Figure(layout=FigureLayout(height='420px'))"
      ]
     },
     "metadata": {},
     "output_type": "display_data"
    }
   ],
   "source": [
    "#create heatmap from hotels dataframe for location and temperatures\n",
    "locations = hotels_df[[\"Lat\", \"Lng\"]]\n",
    "temperatures = hotels_df[\"Max Temp\"]\n",
    "\n",
    "fig = gmaps.figure(center=(30.0, 31.0), zoom_level=1.85)\n",
    "heat_layer = gmaps.heatmap_layer(locations, weights=temperatures, dissipating=False, max_intensity=300, point_radius=4)\n",
    "\n",
    "marker_layer = gmaps.marker_layer(locations, info_box_content=hotel_info)\n",
    "\n",
    "fig.add_layer(heat_layer)\n",
    "fig.add_layer(marker_layer)\n",
    "#show the figure\n",
    "fig"
   ]
  },
  {
   "cell_type": "code",
   "execution_count": null,
   "metadata": {},
   "outputs": [],
   "source": []
  }
 ],
 "metadata": {
  "kernelspec": {
   "display_name": "PythonData",
   "language": "python",
   "name": "pythondata"
  },
  "language_info": {
   "codemirror_mode": {
    "name": "ipython",
    "version": 3
   },
   "file_extension": ".py",
   "mimetype": "text/x-python",
   "name": "python",
   "nbconvert_exporter": "python",
   "pygments_lexer": "ipython3",
   "version": "3.6.10"
  }
 },
 "nbformat": 4,
 "nbformat_minor": 4
}
