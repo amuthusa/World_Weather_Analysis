{
 "cells": [
  {
   "cell_type": "code",
   "execution_count": 14,
   "metadata": {},
   "outputs": [],
   "source": [
    "#import dependency\n",
    "import pandas as pd\n",
    "import os\n",
    "import requests\n",
    "import numpy as np\n",
    "from config import g_key\n",
    "import gmaps\n",
    "import gmaps.datasets\n",
    "#import depedency to export gmap as html\n",
    "from ipywidgets.embed import embed_minimal_html"
   ]
  },
  {
   "cell_type": "code",
   "execution_count": 15,
   "metadata": {},
   "outputs": [
    {
     "data": {
      "text/html": [
       "<div>\n",
       "<style scoped>\n",
       "    .dataframe tbody tr th:only-of-type {\n",
       "        vertical-align: middle;\n",
       "    }\n",
       "\n",
       "    .dataframe tbody tr th {\n",
       "        vertical-align: top;\n",
       "    }\n",
       "\n",
       "    .dataframe thead th {\n",
       "        text-align: right;\n",
       "    }\n",
       "</style>\n",
       "<table border=\"1\" class=\"dataframe\">\n",
       "  <thead>\n",
       "    <tr style=\"text-align: right;\">\n",
       "      <th></th>\n",
       "      <th>Unnamed: 0</th>\n",
       "      <th>City</th>\n",
       "      <th>Country</th>\n",
       "      <th>Max Temp</th>\n",
       "      <th>Current Description</th>\n",
       "      <th>Lat</th>\n",
       "      <th>Lng</th>\n",
       "      <th>Hotel Name</th>\n",
       "    </tr>\n",
       "  </thead>\n",
       "  <tbody>\n",
       "    <tr>\n",
       "      <th>0</th>\n",
       "      <td>0</td>\n",
       "      <td>Port Lincoln</td>\n",
       "      <td>AU</td>\n",
       "      <td>64.60</td>\n",
       "      <td>clear sky</td>\n",
       "      <td>-34.73</td>\n",
       "      <td>135.87</td>\n",
       "      <td>Port Lincoln Hotel</td>\n",
       "    </tr>\n",
       "    <tr>\n",
       "      <th>1</th>\n",
       "      <td>8</td>\n",
       "      <td>Ushuaia</td>\n",
       "      <td>AR</td>\n",
       "      <td>69.80</td>\n",
       "      <td>scattered clouds</td>\n",
       "      <td>-54.80</td>\n",
       "      <td>-68.30</td>\n",
       "      <td>Albatros Hotel</td>\n",
       "    </tr>\n",
       "    <tr>\n",
       "      <th>2</th>\n",
       "      <td>14</td>\n",
       "      <td>Bluff</td>\n",
       "      <td>NZ</td>\n",
       "      <td>55.99</td>\n",
       "      <td>light rain</td>\n",
       "      <td>-46.60</td>\n",
       "      <td>168.33</td>\n",
       "      <td>Bluff Homestead - Guesthouse &amp; Campervan Park</td>\n",
       "    </tr>\n",
       "    <tr>\n",
       "      <th>3</th>\n",
       "      <td>26</td>\n",
       "      <td>Cape Town</td>\n",
       "      <td>ZA</td>\n",
       "      <td>66.99</td>\n",
       "      <td>few clouds</td>\n",
       "      <td>-33.93</td>\n",
       "      <td>18.42</td>\n",
       "      <td>Southern Sun Waterfront Cape Town</td>\n",
       "    </tr>\n",
       "    <tr>\n",
       "      <th>4</th>\n",
       "      <td>31</td>\n",
       "      <td>Busselton</td>\n",
       "      <td>AU</td>\n",
       "      <td>66.99</td>\n",
       "      <td>clear sky</td>\n",
       "      <td>-33.65</td>\n",
       "      <td>115.33</td>\n",
       "      <td>Observatory Guest House</td>\n",
       "    </tr>\n",
       "  </tbody>\n",
       "</table>\n",
       "</div>"
      ],
      "text/plain": [
       "   Unnamed: 0          City Country  Max Temp Current Description    Lat  \\\n",
       "0           0  Port Lincoln      AU     64.60           clear sky -34.73   \n",
       "1           8       Ushuaia      AR     69.80    scattered clouds -54.80   \n",
       "2          14         Bluff      NZ     55.99          light rain -46.60   \n",
       "3          26     Cape Town      ZA     66.99          few clouds -33.93   \n",
       "4          31     Busselton      AU     66.99           clear sky -33.65   \n",
       "\n",
       "      Lng                                     Hotel Name  \n",
       "0  135.87                             Port Lincoln Hotel  \n",
       "1  -68.30                                 Albatros Hotel  \n",
       "2  168.33  Bluff Homestead - Guesthouse & Campervan Park  \n",
       "3   18.42              Southern Sun Waterfront Cape Town  \n",
       "4  115.33                        Observatory Guest House  "
      ]
     },
     "execution_count": 15,
     "metadata": {},
     "output_type": "execute_result"
    }
   ],
   "source": [
    "#load the city vacation data file\n",
    "file_to_load = os.path.join(\"weather_data\", \"WeatherPy_vacation.csv\")\n",
    "city_vacation_data_df = pd.read_csv(file_to_load)\n",
    "city_vacation_data_df.head(5)"
   ]
  },
  {
   "cell_type": "code",
   "execution_count": 16,
   "metadata": {},
   "outputs": [],
   "source": [
    "#filter the city vacation data with the cities we are interested in\n",
    "# lets plan for a vacation to Catamarca(Argentina) and Coquimbo,Constitucion,Talcahuano (Chile)\n",
    "city_1_df = city_vacation_data_df[(city_vacation_data_df['City'] == 'Catamarca')]\n",
    "city_2_df = city_vacation_data_df[(city_vacation_data_df['City'] == 'Coquimbo')]\n",
    "city_3_df = city_vacation_data_df[(city_vacation_data_df['City'] == 'Constitucion')]\n",
    "city_4_df = city_vacation_data_df[(city_vacation_data_df['City'] == 'Talcahuano')]"
   ]
  },
  {
   "cell_type": "code",
   "execution_count": 17,
   "metadata": {},
   "outputs": [],
   "source": [
    "#configure gmaps with the api key\n",
    "gmaps.configure(api_key=g_key)"
   ]
  },
  {
   "cell_type": "code",
   "execution_count": 18,
   "metadata": {},
   "outputs": [],
   "source": [
    "#create latitude and longitude for all four destinations\n",
    "city_1_Lat_Lng = list(city_1_df[[\"Lat\", \"Lng\"]].itertuples(index=False, name=None))[0]\n",
    "city_2_Lat_Lng = list(city_2_df[[\"Lat\", \"Lng\"]].itertuples(index=False, name=None))[0]\n",
    "city_3_Lat_Lng = list(city_3_df[[\"Lat\", \"Lng\"]].itertuples(index=False, name=None))[0]\n",
    "city_4_Lat_Lng = list(city_4_df[[\"Lat\", \"Lng\"]].itertuples(index=False, name=None))[0]"
   ]
  },
  {
   "cell_type": "code",
   "execution_count": 29,
   "metadata": {},
   "outputs": [
    {
     "data": {
      "application/vnd.jupyter.widget-view+json": {
       "model_id": "6516a87d29894298b46b064844dc6930",
       "version_major": 2,
       "version_minor": 0
      },
      "text/plain": [
       "Figure(layout=FigureLayout(height='420px'))"
      ]
     },
     "metadata": {},
     "output_type": "display_data"
    }
   ],
   "source": [
    "#create gmaps driving layer from Catamarca to Talcahuano via Coquimbo and Constitucion\n",
    "fig = gmaps.figure()\n",
    "Catamarca_Talcahuano_Directions = gmaps.directions_layer(city_1_Lat_Lng, city_4_Lat_Lng,\n",
    "                                                        waypoints=[city_2_Lat_Lng,city_3_Lat_Lng],\n",
    "                                                        travel_mode=\"DRIVING\")\n",
    "fig.add_layer(Catamarca_Talcahuano_Directions)\n",
    "\n",
    "#export the driving directions as html\n",
    "embed_minimal_html('images/WeatherPy_travel_map.html', views=[fig])\n",
    "\n",
    "#show fig\n",
    "fig\n"
   ]
  },
  {
   "cell_type": "code",
   "execution_count": 32,
   "metadata": {},
   "outputs": [
    {
     "data": {
      "text/html": [
       "<div>\n",
       "<style scoped>\n",
       "    .dataframe tbody tr th:only-of-type {\n",
       "        vertical-align: middle;\n",
       "    }\n",
       "\n",
       "    .dataframe tbody tr th {\n",
       "        vertical-align: top;\n",
       "    }\n",
       "\n",
       "    .dataframe thead th {\n",
       "        text-align: right;\n",
       "    }\n",
       "</style>\n",
       "<table border=\"1\" class=\"dataframe\">\n",
       "  <thead>\n",
       "    <tr style=\"text-align: right;\">\n",
       "      <th></th>\n",
       "      <th>Unnamed: 0</th>\n",
       "      <th>City</th>\n",
       "      <th>Country</th>\n",
       "      <th>Max Temp</th>\n",
       "      <th>Current Description</th>\n",
       "      <th>Lat</th>\n",
       "      <th>Lng</th>\n",
       "      <th>Hotel Name</th>\n",
       "    </tr>\n",
       "  </thead>\n",
       "  <tbody>\n",
       "    <tr>\n",
       "      <th>52</th>\n",
       "      <td>245</td>\n",
       "      <td>Catamarca</td>\n",
       "      <td>AR</td>\n",
       "      <td>60.01</td>\n",
       "      <td>overcast clouds</td>\n",
       "      <td>-28.47</td>\n",
       "      <td>-65.79</td>\n",
       "      <td>Amerian Catamarca Park Hotel</td>\n",
       "    </tr>\n",
       "    <tr>\n",
       "      <th>45</th>\n",
       "      <td>229</td>\n",
       "      <td>Coquimbo</td>\n",
       "      <td>CL</td>\n",
       "      <td>68.00</td>\n",
       "      <td>clear sky</td>\n",
       "      <td>-29.95</td>\n",
       "      <td>-71.34</td>\n",
       "      <td>Hotel San Juan</td>\n",
       "    </tr>\n",
       "    <tr>\n",
       "      <th>58</th>\n",
       "      <td>270</td>\n",
       "      <td>Constitucion</td>\n",
       "      <td>CL</td>\n",
       "      <td>62.53</td>\n",
       "      <td>clear sky</td>\n",
       "      <td>-35.33</td>\n",
       "      <td>-72.42</td>\n",
       "      <td>Hotel Boutique Las Azucenas</td>\n",
       "    </tr>\n",
       "    <tr>\n",
       "      <th>32</th>\n",
       "      <td>170</td>\n",
       "      <td>Talcahuano</td>\n",
       "      <td>CL</td>\n",
       "      <td>68.00</td>\n",
       "      <td>few clouds</td>\n",
       "      <td>-36.72</td>\n",
       "      <td>-73.12</td>\n",
       "      <td>Hotel Terramar</td>\n",
       "    </tr>\n",
       "  </tbody>\n",
       "</table>\n",
       "</div>"
      ],
      "text/plain": [
       "    Unnamed: 0          City Country  Max Temp Current Description    Lat  \\\n",
       "52         245     Catamarca      AR     60.01     overcast clouds -28.47   \n",
       "45         229      Coquimbo      CL     68.00           clear sky -29.95   \n",
       "58         270  Constitucion      CL     62.53           clear sky -35.33   \n",
       "32         170    Talcahuano      CL     68.00          few clouds -36.72   \n",
       "\n",
       "      Lng                    Hotel Name  \n",
       "52 -65.79  Amerian Catamarca Park Hotel  \n",
       "45 -71.34                Hotel San Juan  \n",
       "58 -72.42   Hotel Boutique Las Azucenas  \n",
       "32 -73.12                Hotel Terramar  "
      ]
     },
     "execution_count": 32,
     "metadata": {},
     "output_type": "execute_result"
    }
   ],
   "source": [
    "#combining all dataframes\n",
    "itenary_cities_data = [city_1_df, city_2_df, city_3_df, city_4_df]\n",
    "itenary_cities_data_df = pd.concat(itenary_cities_data)\n",
    "itenary_cities_data_df.head()\n",
    "\n"
   ]
  },
  {
   "cell_type": "code",
   "execution_count": 33,
   "metadata": {},
   "outputs": [],
   "source": [
    "itenary_cities_locations = itenary_cities_data_df[[\"Lat\",\"Lng\"]]\n",
    "\n",
    "#create infoblock template whose values will be replace iterating\n",
    "info_block_template = \"\"\"\n",
    "<dl>\n",
    "<dt>Hotel Name</dt><dd>{Hotel Name}</dd>\n",
    "<dt>City</dt><dd>{City}</dd>\n",
    "<dt>Country</dt><dd>{Country}</dd>\n",
    "<dt>Current Weather</dt><dd>{Current Description} and {Max Temp}\\xb0F</dd>\n",
    "</dl>\n",
    "\"\"\"\n",
    "#create infoblock for display\n",
    "hotel_info = [info_block_template.format(**row) for index, row in itenary_cities_data_df.iterrows()]\n",
    "\n",
    "itenary_cities_marker_layer = gmaps.marker_layer(itenary_cities_locations, info_box_content=hotel_info)\n",
    "\n"
   ]
  },
  {
   "cell_type": "code",
   "execution_count": 37,
   "metadata": {},
   "outputs": [
    {
     "data": {
      "application/vnd.jupyter.widget-view+json": {
       "model_id": "839f11716efe4fbeb617411f6d98dec9",
       "version_major": 2,
       "version_minor": 0
      },
      "text/plain": [
       "Figure(layout=FigureLayout(height='420px'))"
      ]
     },
     "metadata": {},
     "output_type": "display_data"
    }
   ],
   "source": [
    "#create gmaps driving layer from Catamarca to Talcahuano via Coquimbo and Constitucion\n",
    "fig = gmaps.figure()\n",
    "\n",
    "#fig.add_layer(Catamarca_Talcahuano_Directions)\n",
    "fig.add_layer(itenary_cities_marker_layer)\n",
    "\n",
    "#export the driving directions as html\n",
    "embed_minimal_html('images/WeatherPy_travel_map_markers.html', views=[fig])\n",
    "\n",
    "#show fig\n",
    "fig"
   ]
  },
  {
   "cell_type": "code",
   "execution_count": null,
   "metadata": {},
   "outputs": [],
   "source": []
  },
  {
   "cell_type": "code",
   "execution_count": null,
   "metadata": {},
   "outputs": [],
   "source": []
  }
 ],
 "metadata": {
  "kernelspec": {
   "display_name": "PythonData",
   "language": "python",
   "name": "pythondata"
  },
  "language_info": {
   "codemirror_mode": {
    "name": "ipython",
    "version": 3
   },
   "file_extension": ".py",
   "mimetype": "text/x-python",
   "name": "python",
   "nbconvert_exporter": "python",
   "pygments_lexer": "ipython3",
   "version": "3.6.10"
  }
 },
 "nbformat": 4,
 "nbformat_minor": 4
}
